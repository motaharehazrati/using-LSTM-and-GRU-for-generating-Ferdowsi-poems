{
  "cells": [
    {
      "cell_type": "markdown",
      "metadata": {
        "id": "K3L3Fa8fStOn"
      },
      "source": [
        "### Home_work 4\n",
        "Motahare Hazrati<br/>\n",
        "ID: 400206613<br/>\n"
      ]
    },
    {
      "cell_type": "code",
      "execution_count": 59,
      "metadata": {
        "id": "9Ynh4rnMFBDl",
        "vscode": {
          "languageId": "python"
        }
      },
      "outputs": [],
      "source": [
        "from google.colab import drive\n",
        "import tensorflow as tf\n",
        "import pandas as pd\n",
        "import numpy as np\n",
        "import matplotlib.pyplot as plt\n",
        "import keras\n",
        "from keras.models import Sequential,Model\n",
        "from keras.layers import LSTM,Dense,RepeatVector,Input\n"
      ]
    },
    {
      "cell_type": "markdown",
      "metadata": {
        "id": "f6NgCHkVTEM2"
      },
      "source": [
        "Dataframe is being read <br/>\n",
        "Padding is done here"
      ]
    },
    {
      "cell_type": "code",
      "execution_count": 60,
      "metadata": {
        "id": "ivh_8SuCvVY_",
        "vscode": {
          "languageId": "python"
        }
      },
      "outputs": [],
      "source": [
        "\n",
        "data = pd.read_csv('ferdousi.txt', delimiter = \"\\n\", names=[\"text\", 'label'])\n",
        "data['label'] = 'ferdousi'\n",
        "index=np.arange((len(data)/2)-2)\n",
        "data=data['text']"
      ]
    },
    {
      "cell_type": "code",
      "execution_count": 79,
      "metadata": {
        "id": "8FIZ20rHWteV",
        "vscode": {
          "languageId": "python"
        }
      },
      "outputs": [],
      "source": [
        "def plot_history(history,name):\n",
        "    plt.figure(figsize=(20,10))\n",
        "    plt.subplot(1, 2, 1)\n",
        "    plt.suptitle(name, fontsize=30)\n",
        "    plt.ylabel('Loss', fontsize=16)\n",
        "    plt.plot(history.history['loss'], label='Training Loss')\n",
        "    plt.plot(history.history['val_loss'], label='Validation Loss')\n",
        "    plt.legend(loc='upper right')\n",
        "\n",
        "    plt.subplot(1, 2, 2)\n",
        "    plt.ylabel('Accuracy', fontsize=16)\n",
        "    plt.plot(history.history['accuracy'], label='Training Accuracy')\n",
        "    plt.plot(history.history['val_accuracy'], label='Validation Accuracy')\n",
        "    plt.legend(loc='lower right')\n",
        "    plt.show()\n",
        "\n",
        "   \n",
        "   \n",
        "   \n"
      ]
    },
    {
      "cell_type": "code",
      "execution_count": 62,
      "metadata": {
        "id": "S4u_9aljZr5L",
        "vscode": {
          "languageId": "python"
        }
      },
      "outputs": [],
      "source": [
        "    Mesra1=data[range(0, len(data), 2)]\n",
        "    Mesra1=Mesra1.iloc[1:]\n",
        "    Mesra1=Mesra1.iloc[:-1]\n",
        "    Mesra1=Mesra1.reset_index(drop=True)\n",
        "    Mesra2=data[range(1, len(data), 2)]\n",
        "    Mesra2=Mesra2.iloc[1:]\n",
        "    Mesra2=Mesra2.reset_index(drop=True)\n",
        "   \n",
        "   "
      ]
    },
    {
      "cell_type": "markdown",
      "metadata": {
        "id": "XySU44YVXF2j"
      },
      "source": [
        "list to string"
      ]
    },
    {
      "cell_type": "code",
      "execution_count": 63,
      "metadata": {
        "id": "eeOtCGCYXEg_",
        "vscode": {
          "languageId": "python"
        }
      },
      "outputs": [],
      "source": [
        "    for i in range(len(Mesra1)):\n",
        "        Mesra1[i] = ''.join(Mesra1[i])\n",
        "\n",
        "    for i in range(len(Mesra2)):\n",
        "        Mesra2[i] = ''.join(Mesra2[i])\n"
      ]
    },
    {
      "cell_type": "markdown",
      "metadata": {
        "id": "iVPQjvBWXM6d"
      },
      "source": []
    },
    {
      "cell_type": "code",
      "execution_count": 64,
      "metadata": {
        "colab": {
          "base_uri": "https://localhost:8080/"
        },
        "id": "qMhRqwCGXQlH",
        "outputId": "b2419d5c-0211-411f-b178-bc453dd0c4cb",
        "vscode": {
          "languageId": "python"
        }
      },
      "outputs": [
        {
          "data": {
            "text/plain": [
              "34"
            ]
          },
          "execution_count": 64,
          "metadata": {},
          "output_type": "execute_result"
        }
      ],
      "source": [
        "lengg=max(len(max(Mesra1, key=len)),len(max(Mesra2, key=len)))\n",
        "lengg\n"
      ]
    },
    {
      "cell_type": "markdown",
      "metadata": {
        "id": "zqKIeMCGXHvT"
      },
      "source": [
        "padding"
      ]
    },
    {
      "cell_type": "code",
      "execution_count": 65,
      "metadata": {
        "id": "TKMbca_MXD71",
        "vscode": {
          "languageId": "python"
        }
      },
      "outputs": [],
      "source": [
        "\n",
        "    for i in range(len(Mesra1)):\n",
        "        Mesra1[i]=Mesra1[i].rjust(lengg, 'P')\n",
        "        Mesra1[i]=list(Mesra1[i])\n",
        "        Mesra1[i].insert(0,'_BOM_')\n",
        "        Mesra1[i].append('_EOM_')\n",
        "\n",
        "\n",
        "\n",
        "    for i in range(len(Mesra2)):\n",
        "\n",
        "        Mesra2[i]=Mesra2[i].rjust(lengg, 'P')\n",
        "        Mesra2[i]=list(Mesra2[i])\n",
        "        Mesra2[i].insert(0,'_BOM_')\n",
        "        Mesra2[i].append('_EOM_')"
      ]
    },
    {
      "cell_type": "markdown",
      "metadata": {
        "id": "yghS7aI2TI3P"
      },
      "source": [
        "10% of the whole data is seprated for final test<br/> \n",
        "actually dataset is divided into 80% train, 10% validation and 10% test "
      ]
    },
    {
      "cell_type": "code",
      "execution_count": 66,
      "metadata": {
        "id": "WprLlhG_FQ52",
        "vscode": {
          "languageId": "python"
        }
      },
      "outputs": [],
      "source": [
        "# 10 percent of data is separated for test dataset\n",
        "testidx=np.random.choice(index,size=int(0.1*49600),replace=0)\n",
        "trainidx=list(set(index)-set(testidx))"
      ]
    },
    {
      "cell_type": "markdown",
      "metadata": {
        "id": "pBcVc81XTjcP"
      },
      "source": [
        "data: All Ferdousi poems<br/>\n",
        "data0: dataset of first Mesra of all Beyts<br/>\n",
        "data1: dataset of secound Mesra of all Beyts<br/>"
      ]
    },
    {
      "cell_type": "markdown",
      "metadata": {
        "id": "zwdetRj8UI5v"
      },
      "source": [
        "maximum length of all Mesras after padding is 37"
      ]
    },
    {
      "cell_type": "code",
      "execution_count": 67,
      "metadata": {
        "colab": {
          "base_uri": "https://localhost:8080/"
        },
        "id": "Y_PaaFjCNDB4",
        "outputId": "bd0a7eff-8693-4318-e1d6-2102b7f82657",
        "vscode": {
          "languageId": "python"
        }
      },
      "outputs": [
        {
          "data": {
            "text/plain": [
              "36"
            ]
          },
          "execution_count": 67,
          "metadata": {},
          "output_type": "execute_result"
        }
      ],
      "source": [
        "lengg_after_pad=max(len(max(Mesra1, key=len)),len(max(Mesra2, key=len)))\n",
        "lengg_after_pad\n"
      ]
    },
    {
      "cell_type": "markdown",
      "metadata": {},
      "source": [
        "EMBEDDING "
      ]
    },
    {
      "cell_type": "code",
      "execution_count": null,
      "metadata": {
        "vscode": {
          "languageId": "python"
        }
      },
      "outputs": [],
      "source": [
        "word = pd.read_csv('farsi_literature_word2vec_model.txt', delimiter = \"\\n\", )\n",
        "df = pd.read_csv(\"farsi_literature_word2vec_model.txt\")\n",
        "words = []\n",
        "embedding = []\n",
        "for j in range(39778):\n",
        "    a1 = list(df.iloc[j])\n",
        "    c1 = 0\n",
        "    for i in a1[0]:\n",
        "        c1 += 1\n",
        "        if i == ' ':\n",
        "            break\n",
        "    words.append(a1[0][0:c1-1])\n",
        "    a2 = [float(x) for x in a1[0][c1:].split()]\n",
        "    embedding.append(a2)"
      ]
    },
    {
      "cell_type": "code",
      "execution_count": 68,
      "metadata": {
        "id": "W0F2VRCQ2dct",
        "vscode": {
          "languageId": "python"
        }
      },
      "outputs": [],
      "source": [
        "\n",
        "\n",
        "numm=''.join(np.ravel(data))\n",
        "charSet=set(numm)\n",
        "charSet=charSet.difference({'\\n'})\n",
        "padSet={'P','_BOM_','_EOM_'}\n",
        "charSet=charSet.union(padSet)\n",
        "\n",
        "data=np.asarray(data)\n",
        "charList=list(charSet)\n",
        "dicSize=len(charList)\n",
        "\n",
        "charVec=np.eye((dicSize))\n",
        "\n",
        "\n",
        "Mesra1train=Mesra1[trainidx]\n",
        "Mesra2train=Mesra2[trainidx]\n",
        "Mesra1test=Mesra1[testidx]\n",
        "Mesra2test=Mesra2[testidx]\n",
        "\n",
        "Mesra1train=Mesra1train.reset_index(drop=True)\n",
        "Mesra2train=Mesra2train.reset_index(drop=True)\n",
        "Mesra1test=Mesra1test.reset_index(drop=True)\n",
        "Mesra2test=Mesra2test.reset_index(drop=True)\n",
        "\n",
        "# Defining the inputs and outputs of network\n",
        "x_train = np.zeros((len(Mesra1train), lengg_after_pad, dicSize))\n",
        "y_train = np.zeros((len(Mesra2train), lengg_after_pad, dicSize))\n",
        "y_train_shifted = np.zeros((len(Mesra2train), lengg_after_pad, dicSize))\n",
        "\n",
        "x_test = np.zeros((len(Mesra1test), lengg_after_pad, dicSize))\n",
        "y_test = np.zeros((len(Mesra2test), lengg_after_pad, dicSize))\n",
        "ytest_sh = np.zeros((len(Mesra2test), lengg_after_pad, dicSize))\n",
        "\n"
      ]
    },
    {
      "cell_type": "code",
      "execution_count": 69,
      "metadata": {
        "colab": {
          "base_uri": "https://localhost:8080/"
        },
        "id": "P8uzLuMTb02p",
        "outputId": "159e0750-6554-4cdb-c6af-6c438aea5b64",
        "vscode": {
          "languageId": "python"
        }
      },
      "outputs": [
        {
          "data": {
            "text/plain": [
              "0       [_BOM_, P, P, P, P, P, P, P, P, P, P, P, P, ب,...\n",
              "1       [_BOM_, P, P, P, P, P, P, P, P, P, P, P, ب, ف,...\n",
              "2       [_BOM_, P, P, P, P, P, ه, م, ی,  , ر, ا, ن, د,...\n",
              "3       [_BOM_, P, P, P, P, P, P, P, P, د, و,  , ل, ش,...\n",
              "4       [_BOM_, P, P, P, P, P, P, P, P, P, P, ا, گ, ر,...\n",
              "                              ...                        \n",
              "4955    [_BOM_, P, P, P, P, P, P, P, P, P, د, ل,  , ق,...\n",
              "4956    [_BOM_, P, P, P, P, P, P, P, P, P, P, ب, ی, ا,...\n",
              "4957    [_BOM_, P, P, P, P, P, P, P, ب, ه,  , ن, ا, م,...\n",
              "4958    [_BOM_, P, P, P, P, P, P, P, P, P, P, P, س, ی,...\n",
              "4959    [_BOM_, P, P, P, P, P, P, P, P, P, P, P, P, ز,...\n",
              "Name: text, Length: 4960, dtype: object"
            ]
          },
          "execution_count": 69,
          "metadata": {},
          "output_type": "execute_result"
        }
      ],
      "source": [
        "\n",
        "Mesra1test"
      ]
    },
    {
      "cell_type": "code",
      "execution_count": 70,
      "metadata": {
        "id": "27ZoWqzjH-iq",
        "vscode": {
          "languageId": "python"
        }
      },
      "outputs": [],
      "source": [
        "def one_hot_coder(mySeq, myDic):\n",
        "    vector=np.zeros(shape=(len(mySeq),dicSize))\n",
        "    for i in range(len(mySeq)):\n",
        "      currentChar=mySeq[i]\n",
        "      idx=myDic.index(currentChar)\n",
        "      vector[i,:]=charVec[idx,:]\n",
        "    return vector\n",
        "\n",
        "\n",
        "for i in range(len(Mesra1train)-1):\n",
        "  x_train[i,:,:]=one_hot_coder(Mesra1train[i],charList)\n",
        "  y_train[i,:,:]=one_hot_coder(Mesra2train[i],charList)\n",
        "  a=one_hot_coder(Mesra2train[i],charList)\n",
        "  y_train_shifted[i,1:,:]=a[0:-1]\n",
        "\n",
        "\n",
        "for i in range(len(Mesra1test)-1):\n",
        "  x_test[i,:,:]=one_hot_coder(Mesra1test[i],charList)\n",
        "  y_test[i,:,:]=one_hot_coder(Mesra2test[i],charList)\n",
        "  a=one_hot_coder(Mesra2test[i],charList)\n",
        "  ytest_sh[i,1:,:]=a[0:-1]"
      ]
    },
    {
      "cell_type": "markdown",
      "metadata": {
        "id": "WodqQ7RBVALx"
      },
      "source": [
        "### Encoder-Decoder using LSTM"
      ]
    },
    {
      "cell_type": "code",
      "execution_count": 72,
      "metadata": {
        "colab": {
          "base_uri": "https://localhost:8080/",
          "height": 1000
        },
        "id": "621cdzQODQiX",
        "outputId": "01698138-4474-4a1f-8023-9d18ae16b385",
        "vscode": {
          "languageId": "python"
        }
      },
      "outputs": [
        {
          "name": "stderr",
          "output_type": "stream",
          "text": [
            "/usr/local/lib/python3.8/dist-packages/keras/optimizers/optimizer_v2/adam.py:110: UserWarning: The `lr` argument is deprecated, use `learning_rate` instead.\n",
            "  super(Adam, self).__init__(name, **kwargs)\n"
          ]
        },
        {
          "name": "stdout",
          "output_type": "stream",
          "text": [
            "Epoch 1/20\n",
            "157/157 [==============================] - 7s 31ms/step - loss: 1.8890 - accuracy: 0.4749 - val_loss: 1.5944 - val_accuracy: 0.5432\n",
            "Epoch 2/20\n",
            "157/157 [==============================] - 4s 28ms/step - loss: 1.4881 - accuracy: 0.5730 - val_loss: 1.3904 - val_accuracy: 0.5966\n",
            "Epoch 3/20\n",
            "157/157 [==============================] - 4s 25ms/step - loss: 1.3207 - accuracy: 0.6189 - val_loss: 1.2792 - val_accuracy: 0.6277\n",
            "Epoch 4/20\n",
            "157/157 [==============================] - 4s 26ms/step - loss: 1.2192 - accuracy: 0.6483 - val_loss: 1.1976 - val_accuracy: 0.6537\n",
            "Epoch 5/20\n",
            "157/157 [==============================] - 4s 28ms/step - loss: 1.1476 - accuracy: 0.6680 - val_loss: 1.1306 - val_accuracy: 0.6727\n",
            "Epoch 6/20\n",
            "157/157 [==============================] - 4s 26ms/step - loss: 1.0871 - accuracy: 0.6847 - val_loss: 1.0869 - val_accuracy: 0.6854\n",
            "Epoch 7/20\n",
            "157/157 [==============================] - 4s 26ms/step - loss: 1.0430 - accuracy: 0.6969 - val_loss: 1.0589 - val_accuracy: 0.6930\n",
            "Epoch 8/20\n",
            "157/157 [==============================] - 4s 28ms/step - loss: 1.0086 - accuracy: 0.7058 - val_loss: 1.0309 - val_accuracy: 0.7001\n",
            "Epoch 9/20\n",
            "157/157 [==============================] - 4s 26ms/step - loss: 0.9831 - accuracy: 0.7128 - val_loss: 1.0138 - val_accuracy: 0.7046\n",
            "Epoch 10/20\n",
            "157/157 [==============================] - 4s 26ms/step - loss: 0.9604 - accuracy: 0.7192 - val_loss: 0.9994 - val_accuracy: 0.7090\n",
            "Epoch 11/20\n",
            "157/157 [==============================] - 4s 27ms/step - loss: 0.9520 - accuracy: 0.7212 - val_loss: 0.9858 - val_accuracy: 0.7125\n",
            "Epoch 12/20\n",
            "157/157 [==============================] - 4s 26ms/step - loss: 0.9303 - accuracy: 0.7274 - val_loss: 0.9806 - val_accuracy: 0.7146\n",
            "Epoch 13/20\n",
            "157/157 [==============================] - 4s 25ms/step - loss: 0.9177 - accuracy: 0.7309 - val_loss: 0.9695 - val_accuracy: 0.7173\n",
            "Epoch 14/20\n",
            "157/157 [==============================] - 4s 26ms/step - loss: 0.9065 - accuracy: 0.7338 - val_loss: 0.9651 - val_accuracy: 0.7191\n",
            "Epoch 15/20\n",
            "157/157 [==============================] - 4s 27ms/step - loss: 0.8973 - accuracy: 0.7362 - val_loss: 0.9657 - val_accuracy: 0.7196\n",
            "Epoch 16/20\n",
            "157/157 [==============================] - 4s 25ms/step - loss: 0.8875 - accuracy: 0.7387 - val_loss: 0.9515 - val_accuracy: 0.7238\n",
            "Epoch 17/20\n",
            "157/157 [==============================] - 4s 26ms/step - loss: 0.8811 - accuracy: 0.7405 - val_loss: 0.9471 - val_accuracy: 0.7251\n",
            "Epoch 18/20\n",
            "157/157 [==============================] - 4s 28ms/step - loss: 0.8699 - accuracy: 0.7437 - val_loss: 0.9438 - val_accuracy: 0.7261\n",
            "Epoch 19/20\n",
            "157/157 [==============================] - 4s 26ms/step - loss: 0.8610 - accuracy: 0.7464 - val_loss: 0.9466 - val_accuracy: 0.7258\n",
            "Epoch 20/20\n",
            "157/157 [==============================] - 4s 26ms/step - loss: 0.8655 - accuracy: 0.7450 - val_loss: 0.9481 - val_accuracy: 0.7253\n"
          ]
        },
        {
          "data": {
            "image/png": "[encoded data removed]",
            "text/plain": [
              "<Figure size 1440x720 with 2 Axes>"
            ]
          },
          "metadata": {
            "needs_background": "light"
          },
          "output_type": "display_data"
        }
      ],
      "source": [
        "\n",
        "\n",
        "x_train=x_train.astype(int)\n",
        "y_train=y_train.astype(int)\n",
        "y_train_shifted=y_train_shifted.astype(int)\n",
        "\n",
        "# Hyperparameters\n",
        "batch=256\n",
        "lstm_out=256\n",
        "epochs=20\n",
        "lr=0.01\n",
        "\n",
        "\n",
        "encoder_inputs = Input(shape=(None, dicSize),name='Encoder_Inputs')\n",
        "decoder_inputs = Input(shape=(None, dicSize),name='Decoder_Inputs')\n",
        "\n",
        "\n",
        "encoder_lstm = LSTM(lstm_out, return_state=True,name='LSTM_Encoder',activation='tanh',recurrent_activation='sigmoid')\n",
        "_,hidden_state, cell_state = encoder_lstm(encoder_inputs)\n",
        "decoder_initial_states = [hidden_state, cell_state]\n",
        "decoder_lstm = LSTM(lstm_out, return_sequences=True, return_state=True,name='LSTM_Decoder',activation='tanh',recurrent_activation='sigmoid')\n",
        "decoder_outputs, _, _ = decoder_lstm(decoder_inputs,initial_state=decoder_initial_states)\n",
        "decoder_dense = Dense(dicSize, activation='softmax',name='Dense_Layer')\n",
        "decoder_outputs = decoder_dense(decoder_outputs)\n",
        "\n",
        "# Training\n",
        "opt=keras.optimizers.Adam(lr=lr)\n",
        "model = Model([encoder_inputs, decoder_inputs], decoder_outputs)\n",
        "model.compile(optimizer=opt,metrics=['accuracy'], loss='categorical_crossentropy')\n",
        "history=model.fit([x_train, y_train_shifted], y_train,batch_size=batch,epochs=epochs,verbose=1,validation_split=0.1)\n",
        "\n",
        "\n",
        "\n",
        "plot_history(history,'LSTM')\n",
        "\n"
      ]
    },
    {
      "cell_type": "markdown",
      "metadata": {
        "id": "pZ4oZ1-wVHkB"
      },
      "source": [
        "# Model evaluation using testdataset"
      ]
    },
    {
      "cell_type": "code",
      "execution_count": 73,
      "metadata": {
        "colab": {
          "base_uri": "https://localhost:8080/"
        },
        "id": "X8Snt1xDRSPg",
        "outputId": "6268f737-5e4d-4e86-b57c-7cf9ee3b3ac7",
        "vscode": {
          "languageId": "python"
        }
      },
      "outputs": [
        {
          "name": "stdout",
          "output_type": "stream",
          "text": [
            "155/155 [==============================] - 2s 5ms/step - loss: 0.9155 - accuracy: 0.7349\n"
          ]
        },
        {
          "data": {
            "text/plain": [
              "[0.9155328273773193, 0.7349238395690918]"
            ]
          },
          "execution_count": 73,
          "metadata": {},
          "output_type": "execute_result"
        }
      ],
      "source": [
        "\n",
        "model.evaluate([x_test,ytest_sh],y_test)\n"
      ]
    },
    {
      "cell_type": "markdown",
      "metadata": {
        "id": "N_s0FTcAVFud"
      },
      "source": [
        "### Encoder-Decoder using GRU"
      ]
    },
    {
      "cell_type": "code",
      "execution_count": 75,
      "metadata": {
        "colab": {
          "base_uri": "https://localhost:8080/",
          "height": 1000
        },
        "id": "_j5A3Yz9SWo7",
        "outputId": "83548adf-d80c-412d-dcd8-0554c2c93f13",
        "vscode": {
          "languageId": "python"
        }
      },
      "outputs": [
        {
          "name": "stderr",
          "output_type": "stream",
          "text": [
            "/usr/local/lib/python3.8/dist-packages/keras/optimizers/optimizer_v2/adam.py:110: UserWarning: The `lr` argument is deprecated, use `learning_rate` instead.\n",
            "  super(Adam, self).__init__(name, **kwargs)\n"
          ]
        },
        {
          "name": "stdout",
          "output_type": "stream",
          "text": [
            "Epoch 1/20\n",
            "157/157 [==============================] - 7s 28ms/step - loss: 1.7997 - accuracy: 0.5013 - val_loss: 1.4759 - val_accuracy: 0.5750\n",
            "Epoch 2/20\n",
            "157/157 [==============================] - 4s 25ms/step - loss: 1.3463 - accuracy: 0.6127 - val_loss: 1.2433 - val_accuracy: 0.6412\n",
            "Epoch 3/20\n",
            "157/157 [==============================] - 4s 23ms/step - loss: 1.1707 - accuracy: 0.6604 - val_loss: 1.1442 - val_accuracy: 0.6687\n",
            "Epoch 4/20\n",
            "157/157 [==============================] - 4s 23ms/step - loss: 1.0880 - accuracy: 0.6828 - val_loss: 1.1048 - val_accuracy: 0.6790\n",
            "Epoch 5/20\n",
            "157/157 [==============================] - 4s 25ms/step - loss: 1.0453 - accuracy: 0.6937 - val_loss: 1.0860 - val_accuracy: 0.6828\n",
            "Epoch 6/20\n",
            "157/157 [==============================] - 4s 24ms/step - loss: 1.0160 - accuracy: 0.7014 - val_loss: 1.0573 - val_accuracy: 0.6923\n",
            "Epoch 7/20\n",
            "157/157 [==============================] - 4s 23ms/step - loss: 0.9977 - accuracy: 0.7062 - val_loss: 1.0530 - val_accuracy: 0.6935\n",
            "Epoch 8/20\n",
            "157/157 [==============================] - 4s 23ms/step - loss: 0.9823 - accuracy: 0.7103 - val_loss: 1.0506 - val_accuracy: 0.6941\n",
            "Epoch 9/20\n",
            "157/157 [==============================] - 4s 25ms/step - loss: 0.9645 - accuracy: 0.7153 - val_loss: 1.0317 - val_accuracy: 0.7000\n",
            "Epoch 10/20\n",
            "157/157 [==============================] - 4s 22ms/step - loss: 0.9569 - accuracy: 0.7174 - val_loss: 1.0396 - val_accuracy: 0.6983\n",
            "Epoch 11/20\n",
            "157/157 [==============================] - 4s 23ms/step - loss: 0.9457 - accuracy: 0.7206 - val_loss: 1.0348 - val_accuracy: 0.7001\n",
            "Epoch 12/20\n",
            "157/157 [==============================] - 4s 24ms/step - loss: 0.9401 - accuracy: 0.7222 - val_loss: 1.0299 - val_accuracy: 0.7018\n",
            "Epoch 13/20\n",
            "157/157 [==============================] - 4s 24ms/step - loss: 0.9367 - accuracy: 0.7232 - val_loss: 1.0262 - val_accuracy: 0.7033\n",
            "Epoch 14/20\n",
            "157/157 [==============================] - 4s 23ms/step - loss: 0.9284 - accuracy: 0.7256 - val_loss: 1.0462 - val_accuracy: 0.6981\n",
            "Epoch 15/20\n",
            "157/157 [==============================] - 4s 22ms/step - loss: 0.9233 - accuracy: 0.7269 - val_loss: 1.0270 - val_accuracy: 0.7031\n",
            "Epoch 16/20\n",
            "157/157 [==============================] - 4s 25ms/step - loss: 0.9269 - accuracy: 0.7256 - val_loss: 1.0335 - val_accuracy: 0.7011\n",
            "Epoch 17/20\n",
            "157/157 [==============================] - 4s 23ms/step - loss: 0.9126 - accuracy: 0.7301 - val_loss: 1.0229 - val_accuracy: 0.7037\n",
            "Epoch 18/20\n",
            "157/157 [==============================] - 4s 22ms/step - loss: 0.9235 - accuracy: 0.7266 - val_loss: 1.0333 - val_accuracy: 0.7015\n",
            "Epoch 19/20\n",
            "157/157 [==============================] - 4s 25ms/step - loss: 0.9104 - accuracy: 0.7311 - val_loss: 1.0245 - val_accuracy: 0.7048\n",
            "Epoch 20/20\n",
            "157/157 [==============================] - 4s 23ms/step - loss: 0.9073 - accuracy: 0.7317 - val_loss: 1.0378 - val_accuracy: 0.7016\n"
          ]
        },
        {
          "data": {
            "image/png": "[encoded data removed]",
            "text/plain": [
              "<Figure size 1440x720 with 2 Axes>"
            ]
          },
          "metadata": {
            "needs_background": "light"
          },
          "output_type": "display_data"
        }
      ],
      "source": [
        "\n",
        "\n",
        "# Hyperparameters\n",
        "batch=256\n",
        "lstm_out=256\n",
        "epochs=20\n",
        "lr=0.01\n",
        "\n",
        "# Network Architecture\n",
        "# Inputs of network\n",
        "encoder_inputs = Input(shape=(None, dicSize),name='Encoder_Inputs')\n",
        "decoder_inputs = Input(shape=(None, dicSize),name='Decoder_Inputs')\n",
        "\n",
        "# Encoder LSTM\n",
        "encoder = GRU(lstm_out, return_state=True)\n",
        "_,hidden_state = encoder(encoder_inputs)\n",
        "decoder_initial_states = [hidden_state]\n",
        "decoder = GRU(lstm_out, return_sequences=True)\n",
        "decoder_outputs = decoder(decoder_inputs,initial_state=decoder_initial_states)\n",
        "decoder_dense = Dense(dicSize, activation='softmax',name='Dense_Layer')\n",
        "decoder_outputs = decoder_dense(decoder_outputs)\n",
        "\n",
        "# Training\n",
        "opt=keras.optimizers.Adam(lr=lr)\n",
        "model = Model([encoder_inputs, decoder_inputs], decoder_outputs)\n",
        "model.compile(optimizer=opt,metrics=['accuracy'], loss='categorical_crossentropy')\n",
        "history=model.fit([x_train, y_train_shifted], y_train,batch_size=batch,epochs=epochs,verbose=1,validation_split=0.1)\n",
        "\n",
        "\n",
        "plot_history(history,'GRU')\n",
        "\n"
      ]
    },
    {
      "cell_type": "markdown",
      "metadata": {
        "id": "_LG6K9EeVWpr"
      },
      "source": [
        "### Model evaluation using testdataset"
      ]
    },
    {
      "cell_type": "code",
      "execution_count": 76,
      "metadata": {
        "colab": {
          "base_uri": "https://localhost:8080/"
        },
        "id": "6o30miD5RZ0H",
        "outputId": "a1797a4c-d1e2-40c1-e306-cec3bb847f98",
        "vscode": {
          "languageId": "python"
        }
      },
      "outputs": [
        {
          "name": "stdout",
          "output_type": "stream",
          "text": [
            "155/155 [==============================] - 1s 5ms/step - loss: 0.9985 - accuracy: 0.7114\n"
          ]
        },
        {
          "data": {
            "text/plain": [
              "[0.9984613060951233, 0.7114023566246033]"
            ]
          },
          "execution_count": 76,
          "metadata": {},
          "output_type": "execute_result"
        }
      ],
      "source": [
        "model.evaluate([x_test,ytest_sh],y_test)\n"
      ]
    }
  ],
  "metadata": {
    "accelerator": "GPU",
    "colab": {
      "provenance": []
    },
    "gpuClass": "standard",
    "kernelspec": {
      "display_name": "Python 3",
      "name": "python3"
    }
  },
  "nbformat": 4,
  "nbformat_minor": 0
}
